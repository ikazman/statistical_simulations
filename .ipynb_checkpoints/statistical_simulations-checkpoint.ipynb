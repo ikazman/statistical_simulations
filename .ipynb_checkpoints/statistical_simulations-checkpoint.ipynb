{
 "cells": [
  {
   "cell_type": "markdown",
   "metadata": {},
   "source": [
    "# Основы статистического моделирования"
   ]
  },
  {
   "cell_type": "markdown",
   "metadata": {},
   "source": [
    "## Этапы моделирования"
   ]
  },
  {
   "cell_type": "markdown",
   "metadata": {},
   "source": [
    "1. Определить исходы для случайной величины\n",
    "2. Установить константы для модели, если необходимо\n",
    "3. Установить вероятности исходов\n",
    "4. Определить взаимосвязи между случайными исходами\n",
    "5. Выполнить множество случайных выборок из интересующей совокупности\n",
    "6. Проанализировать полученные данные"
   ]
  },
  {
   "cell_type": "markdown",
   "metadata": {},
   "source": [
    "#### - примечание:\n",
    "\n",
    "Установливать константы для модели может быть полезно для определения возможных исходов под условием. Например: для двух возможных исходов А и Б, мы можем проверять условия выигрыша как 2А+ 3Б > В как выигрышную ситуацию и проигрышную во всех обратных случаях. Еще один пример: наше событие В - это сложное событие, состоящее из А и Б одновременно. И так далее."
   ]
  },
  {
   "cell_type": "markdown",
   "metadata": {},
   "source": [
    "# 1. Загрузим библиотеки"
   ]
  },
  {
   "cell_type": "markdown",
   "metadata": {},
   "source": [
    "#### - библиотеки"
   ]
  },
  {
   "cell_type": "code",
   "execution_count": 1,
   "metadata": {},
   "outputs": [],
   "source": [
    "import warnings\n",
    "warnings.filterwarnings('ignore')\n",
    "\n",
    "import random\n",
    "import numpy as np\n",
    "import pandas as pd\n",
    "from matplotlib import pyplot as plt\n",
    "\n",
    "from scipy import stats as st"
   ]
  },
  {
   "cell_type": "markdown",
   "metadata": {},
   "source": [
    "#### - зафиксируем коэффициент случайности для повторяемости"
   ]
  },
  {
   "cell_type": "code",
   "execution_count": 2,
   "metadata": {},
   "outputs": [],
   "source": [
    "np.random.seed(42)"
   ]
  },
  {
   "cell_type": "markdown",
   "metadata": {
    "_cell_guid": "79c7e3d0-c299-4dcb-8224-4455121ee9b0",
    "_uuid": "d629ff2d2480ee46fbb7e2d37f6b5fab8052498a",
    "collapsed": true
   },
   "source": [
    "# 2. Основы случайности и моделирования"
   ]
  },
  {
   "cell_type": "markdown",
   "metadata": {},
   "source": [
    "## 2.1. Случайное значение из распределения Пуассона"
   ]
  },
  {
   "cell_type": "markdown",
   "metadata": {},
   "source": [
    "#### - зададим лямбду (среднее число событий на интервал распределения) и размеры двух выборок"
   ]
  },
  {
   "cell_type": "code",
   "execution_count": 3,
   "metadata": {},
   "outputs": [],
   "source": [
    "lam, size_1, size_2 = 5, 3, 1000"
   ]
  },
  {
   "cell_type": "markdown",
   "metadata": {},
   "source": [
    "#### - сгенерируем две выборки с заданной лямбдой и размерами выборки"
   ]
  },
  {
   "cell_type": "code",
   "execution_count": 4,
   "metadata": {},
   "outputs": [],
   "source": [
    "sample1 = np.random.poisson(lam, size_1)\n",
    "sample2 = np.random.poisson(lam, size_2)"
   ]
  },
  {
   "cell_type": "markdown",
   "metadata": {},
   "source": [
    "#### - подсчитаем абсолютную разницу между средней частотой появления события (лямбда) и средним из выборок"
   ]
  },
  {
   "cell_type": "code",
   "execution_count": 5,
   "metadata": {},
   "outputs": [],
   "source": [
    "answer_1 = round(abs(lam - np.mean(sample1)), 2)\n",
    "answer_2 = round(abs(lam - np.mean(sample2)), 2)"
   ]
  },
  {
   "cell_type": "code",
   "execution_count": 6,
   "metadata": {},
   "outputs": [
    {
     "data": {
      "text/plain": [
       "'|Лямбда - среднее выборки| с 3 наблюдениями равно 0.67 и с 1000 наблюдениями равно 0.02. '"
      ]
     },
     "execution_count": 6,
     "metadata": {},
     "output_type": "execute_result"
    }
   ],
   "source": [
    "'|Лямбда - среднее выборки| с {} наблюдениями равно {} и с {} наблюдениями равно {}. '.format(size_1, answer_1, size_2, answer_2)"
   ]
  },
  {
   "cell_type": "markdown",
   "metadata": {},
   "source": [
    "### Вывод: размер выборки влияет на разницу между лямбдой и полученными средними в выборке - чем больше выборка, тем меньше разница"
   ]
  },
  {
   "cell_type": "markdown",
   "metadata": {},
   "source": [
    "## 2.2. Моделирование игры в кости"
   ]
  },
  {
   "cell_type": "markdown",
   "metadata": {},
   "source": [
    "### 1) Описание модели"
   ]
  },
  {
   "cell_type": "markdown",
   "metadata": {},
   "source": [
    "Игорок побеждает, если в результате броска выпадают одинаковые значения на гранях костей. В игре участвуют стандартные игральные кости.\n",
    "\n",
    "- Возможные исходы: значения от 1 до 6.\n",
    "- Кости правильные, поэтому вероятность выпадения каждой из граней - 1/6: равномерное распределение.\n",
    "- Определим искомые взаимосвязи между исходами: совпадение граней - выгрыш (1), в остальных случаях - проигрыш (0)."
   ]
  },
  {
   "cell_type": "markdown",
   "metadata": {},
   "source": [
    "### 2) Моделирование"
   ]
  },
  {
   "cell_type": "markdown",
   "metadata": {},
   "source": [
    "#### - сконструируем игральные кости, определим вероятность выпадения граней"
   ]
  },
  {
   "cell_type": "code",
   "execution_count": 7,
   "metadata": {},
   "outputs": [],
   "source": [
    "dice = np.arange(1, 7)\n",
    "probabilities = [1/6 for outcome in dice]"
   ]
  },
  {
   "cell_type": "markdown",
   "metadata": {},
   "source": [
    "#### - подготовим функцию для эксперимента"
   ]
  },
  {
   "cell_type": "code",
   "execution_count": 8,
   "metadata": {},
   "outputs": [],
   "source": [
    "def dice_roller(dice, probabilities, num_dices, throws):\n",
    "    results = []\n",
    "    wins = None\n",
    "    \n",
    "    for _ in range(throws):\n",
    "        \n",
    "        if 1 < num_dices < 3:\n",
    "            generator = np.random.choice(dice, size=num_dices, p=probabilities)\n",
    "            \n",
    "            if generator[0] == generator[1]:\n",
    "                results.append(1)\n",
    "                \n",
    "            else:\n",
    "                results.append(0)\n",
    "            \n",
    "        else:\n",
    "            results.append(np.random.choice(dice, size=num_dices, p=probabilities))\n",
    "    \n",
    "    wins = sum(results)\n",
    "    wins_rate = wins / throws\n",
    "    \n",
    "    if 1 < num_dices < 3:\n",
    "        print(\n",
    "            '1. Число побед из {} бросков - {} '.format(len(results), wins) + '\\n'\n",
    "            '2. Частота выпадения выигрышных комбинаций - {:.2%}'.format(wins_rate)\n",
    "        )\n",
    "    \n",
    "    return results, wins, wins_rate"
   ]
  },
  {
   "cell_type": "markdown",
   "metadata": {},
   "source": [
    "#### - смоделируем бросок одной кости"
   ]
  },
  {
   "cell_type": "code",
   "execution_count": 9,
   "metadata": {},
   "outputs": [],
   "source": [
    "one_throw, _, _ = dice_roller(dice, probabilities, 1, 1)"
   ]
  },
  {
   "cell_type": "code",
   "execution_count": 10,
   "metadata": {},
   "outputs": [
    {
     "data": {
      "text/plain": [
       "'Исход броска - [5] '"
      ]
     },
     "execution_count": 10,
     "metadata": {},
     "output_type": "execute_result"
    }
   ],
   "source": [
    "'Исход броска - {} '.format(one_throw[0])"
   ]
  },
  {
   "cell_type": "markdown",
   "metadata": {},
   "source": [
    "#### - смоделируем бросок двух костей"
   ]
  },
  {
   "cell_type": "code",
   "execution_count": 11,
   "metadata": {},
   "outputs": [
    {
     "name": "stdout",
     "output_type": "stream",
     "text": [
      "1. Число побед из 100000 бросков - 16676 \n",
      "2. Частота выпадения выигрышных комбинаций - 16.68%\n"
     ]
    }
   ],
   "source": [
    "results, wins, wins_rate = dice_roller(dice, probabilities, 2, 100000)"
   ]
  },
  {
   "cell_type": "markdown",
   "metadata": {},
   "source": [
    "### 4) Бонус: моделирование бросков монеты"
   ]
  },
  {
   "cell_type": "code",
   "execution_count": 12,
   "metadata": {},
   "outputs": [],
   "source": [
    "coin = np.arange(0, 2)\n",
    "coin_probabilities = [1/2 for outcome in coin]\n",
    "size = 1000000"
   ]
  },
  {
   "cell_type": "code",
   "execution_count": 13,
   "metadata": {},
   "outputs": [
    {
     "data": {
      "text/plain": [
       "0.499949"
      ]
     },
     "execution_count": 13,
     "metadata": {},
     "output_type": "execute_result"
    }
   ],
   "source": [
    "sum(np.random.choice(coin, size=size, p=coin_probabilities)) / size"
   ]
  },
  {
   "cell_type": "markdown",
   "metadata": {},
   "source": [
    "## 2.3. Симуляция розыгрыша лотереи"
   ]
  },
  {
   "cell_type": "markdown",
   "metadata": {},
   "source": [
    "### 1) Описание модели"
   ]
  },
  {
   "cell_type": "markdown",
   "metadata": {},
   "source": [
    "Необходимо принять решение о покупке лотерейного билета, принимая во внимание математическое ожидание от игры, исходя из количества билетов в розыгрыше, стоимость билета и возможный выигрыш: стоимость лотерейного билета - 1500 рублей, выигрыш - 1 000 000 рублей.\n",
    "\n",
    "\n",
    "- Возможные исходы: -1500 в случае проигрыша, 998 500 в случае победы.\n",
    "- Поскольку в розыгрыше участвуют 1000 билетов, вероятность выиграть равна 1 / 1000, проиграть - 999 / 1000.\n",
    "- Определим искомые взаимосвязи между исходами: совпадение граней - выгрыш (1), в остальных случаях - проигрыш (0)."
   ]
  },
  {
   "cell_type": "markdown",
   "metadata": {},
   "source": [
    "### 2) Вычисление математического ожидания в результате лотереи"
   ]
  },
  {
   "cell_type": "markdown",
   "metadata": {},
   "source": [
    "#### - объявим константы: число билетов, стоимость одного билета, призовой фонд, возможные исходы, вероятности выиграть и проиграть"
   ]
  },
  {
   "cell_type": "code",
   "execution_count": 14,
   "metadata": {},
   "outputs": [],
   "source": [
    "num_of_tickets = 1000\n",
    "price = 1500\n",
    "prize = 1000000\n",
    "payoffs = [-price, prize - price]\n",
    "winning_chance = 1 / num_of_tickets\n",
    "probabilities = [1 - winning_chance, winning_chance]"
   ]
  },
  {
   "cell_type": "markdown",
   "metadata": {},
   "source": [
    "#### - вычислим математическое ожидание от игры в результате покупки одного билета"
   ]
  },
  {
   "cell_type": "code",
   "execution_count": 15,
   "metadata": {},
   "outputs": [
    {
     "data": {
      "text/plain": [
       "array([-1500])"
      ]
     },
     "execution_count": 15,
     "metadata": {},
     "output_type": "execute_result"
    }
   ],
   "source": [
    "outcomes = np.random.choice(payoffs, size=1, p=probabilities)\n",
    "outcomes"
   ]
  },
  {
   "cell_type": "markdown",
   "metadata": {},
   "source": [
    "#### - вычислим математическое ожидание от 2000 игр"
   ]
  },
  {
   "cell_type": "code",
   "execution_count": 16,
   "metadata": {},
   "outputs": [],
   "source": [
    "outcomes = np.random.choice(payoffs, size=2000, p=probabilities)"
   ]
  },
  {
   "cell_type": "code",
   "execution_count": 17,
   "metadata": {},
   "outputs": [
    {
     "data": {
      "text/plain": [
       "-500.0"
      ]
     },
     "execution_count": 17,
     "metadata": {},
     "output_type": "execute_result"
    }
   ],
   "source": [
    "outcomes.mean()"
   ]
  },
  {
   "cell_type": "markdown",
   "metadata": {},
   "source": [
    "#### - вычислим предельную стоимость билета, при которой игра имеет смысл"
   ]
  },
  {
   "cell_type": "code",
   "execution_count": 18,
   "metadata": {},
   "outputs": [
    {
     "data": {
      "text/plain": [
       "'В заданных условиях, предельная стоимость билета,при которой игра имеет смысл 5'"
      ]
     },
     "execution_count": 18,
     "metadata": {},
     "output_type": "execute_result"
    }
   ],
   "source": [
    "price = 0\n",
    "\n",
    "while True:\n",
    "\n",
    "    outcomes = np.random.choice([-price, prize-price], size=3000, p=[1 - winning_chance, winning_chance], replace=True)\n",
    "    \n",
    "    if outcomes.mean() < 0:\n",
    "        break\n",
    "    else:\n",
    "        price += 1\n",
    "        \n",
    "answer = price - 1\n",
    "\n",
    "'В заданных условиях, предельная стоимость билета,при которой игра имеет смысл {}'.format(answer)"
   ]
  },
  {
   "cell_type": "markdown",
   "metadata": {},
   "source": [
    "# 3. Основы вероятностей"
   ]
  },
  {
   "cell_type": "markdown",
   "metadata": {},
   "source": [
    "## Этапы моделирования для вычисления вероятности"
   ]
  },
  {
   "cell_type": "markdown",
   "metadata": {},
   "source": [
    "- определить множество исходов\n",
    "- определить как смоделировать один случайный исход\n",
    "- определить критерий успешного исхода (наступления события) \n",
    "- выполнить множество случайных выборок из интересующей совокупности\n",
    "- проанализировать полученные данные"
   ]
  },
  {
   "cell_type": "markdown",
   "metadata": {},
   "source": [
    "#### - создадим колоду из 52 карт"
   ]
  },
  {
   "cell_type": "code",
   "execution_count": 19,
   "metadata": {},
   "outputs": [],
   "source": [
    "deck_of_card = [('Heart', 0), ('Heart', 1), ('Heart', 2), ('Heart', 3), ('Heart', 4), ('Heart', 5), \n",
    "                ('Heart', 6), ('Heart', 7), ('Heart', 8), ('Heart', 9), ('Heart', 10), ('Heart', 11), ('Heart', 12), \n",
    "                ('Club', 0), ('Club', 1), ('Club', 2), ('Club', 3), ('Club', 4), ('Club', 5), \n",
    "                ('Club', 6), ('Club', 7), ('Club', 8), ('Club', 9), ('Club', 10), ('Club', 11), ('Club', 12), \n",
    "                ('Spade', 0), ('Spade', 1), ('Spade', 2), ('Spade', 3), ('Spade', 4), ('Spade', 5), \n",
    "                ('Spade', 6), ('Spade', 7), ('Spade', 8), ('Spade', 9), ('Spade', 10), ('Spade', 11), ('Spade', 12),\n",
    "                ('Diamond', 0), ('Diamond', 1), ('Diamond', 2), ('Diamond', 3), ('Diamond', 4), ('Diamond', 5), \n",
    "                ('Diamond', 6), ('Diamond', 7), ('Diamond', 8), ('Diamond', 9), ('Diamond', 10), ('Diamond', 11), ('Diamond', 12)]"
   ]
  },
  {
   "cell_type": "markdown",
   "metadata": {},
   "source": [
    "### 1) Вычисление вероятности получить \"пару\" в покере"
   ]
  },
  {
   "cell_type": "code",
   "execution_count": 20,
   "metadata": {},
   "outputs": [],
   "source": [
    "def two_of_kind_probability(simulations):\n",
    "    two_of_kind = 0\n",
    "    \n",
    "    for i in range(simulations):\n",
    "        np.random.shuffle(deck_of_card)\n",
    "        hand = deck_of_card[0:5]\n",
    "        cards_in_hand = {}\n",
    "        for card in hand:\n",
    "            cards_in_hand[card[1]] = cards_in_hand.get(card[1], 0) + 1\n",
    "            \n",
    "        highest_card = max(cards_in_hand.values())\n",
    "        if highest_card >= 2:\n",
    "            two_of_kind += 1\n",
    "    return two_of_kind / simulations"
   ]
  },
  {
   "cell_type": "code",
   "execution_count": 21,
   "metadata": {},
   "outputs": [
    {
     "data": {
      "text/plain": [
       "0.4888"
      ]
     },
     "execution_count": 21,
     "metadata": {},
     "output_type": "execute_result"
    }
   ],
   "source": [
    "two_of_kind_probability(5000)"
   ]
  },
  {
   "cell_type": "markdown",
   "metadata": {},
   "source": [
    "### 2) Вероятность выиграть в игру 13"
   ]
  },
  {
   "cell_type": "markdown",
   "metadata": {},
   "source": [
    "Вытаскиваем 13 карт в случайном порядке. Игрок победил, если вытащил 13 карт так, что номнал ни одной из карт не соответсвует порядку, в котором она была вытащена (например, шестерка вытащена шестой по счету - это означает поражение в игре)"
   ]
  },
  {
   "cell_type": "code",
   "execution_count": 22,
   "metadata": {},
   "outputs": [],
   "source": [
    "def thirteen(simulations):\n",
    "    deck = np.arange(1, 14)\n",
    "    win = 0\n",
    "    \n",
    "    for _ in range(simulations):\n",
    "        draw = np.random.choice(deck, size=len(deck), replace=False)\n",
    "        coincidense = (draw == deck).any()\n",
    "        \n",
    "        if coincidense == 0:\n",
    "            win += 1\n",
    "    \n",
    "    return win / simulations"
   ]
  },
  {
   "cell_type": "code",
   "execution_count": 23,
   "metadata": {},
   "outputs": [
    {
     "data": {
      "text/plain": [
       "0.3642"
      ]
     },
     "execution_count": 23,
     "metadata": {},
     "output_type": "execute_result"
    }
   ],
   "source": [
    "thirteen(5000)"
   ]
  },
  {
   "cell_type": "markdown",
   "metadata": {},
   "source": [
    "### 3) Вероятность вытащить шары под условием"
   ]
  },
  {
   "cell_type": "markdown",
   "metadata": {},
   "source": [
    "Вытаскивают 4 шара, эксперимент без возврата шаров в мешок: 1 и 3 - белые, 2 и 4 - черные."
   ]
  },
  {
   "cell_type": "markdown",
   "metadata": {},
   "source": [
    "#### - зададим мешок с 7 белыми и 6 черными шарами"
   ]
  },
  {
   "cell_type": "code",
   "execution_count": 24,
   "metadata": {},
   "outputs": [],
   "source": [
    "urn = ['w', 'w', 'w', 'w', 'w', 'w', 'w', 'b', 'b', 'b', 'b', 'b', 'b']"
   ]
  },
  {
   "cell_type": "code",
   "execution_count": 25,
   "metadata": {},
   "outputs": [],
   "source": [
    "def balls_drawer(simulations, urn):\n",
    "    condition_match = 0\n",
    "    for _ in range(simulations):\n",
    "        draw = np.random.choice(urn, size=4, replace=False)\n",
    "        if draw[0] == 'w' and draw[2] == 'w' and draw[1] == 'b' and draw[3] == 'b':\n",
    "            condition_match += 1\n",
    "        \n",
    "    return condition_match / simulations"
   ]
  },
  {
   "cell_type": "code",
   "execution_count": 26,
   "metadata": {},
   "outputs": [
    {
     "data": {
      "text/plain": [
       "0.0688"
      ]
     },
     "execution_count": 26,
     "metadata": {},
     "output_type": "execute_result"
    }
   ],
   "source": [
    "balls_drawer(5000, urn)"
   ]
  },
  {
   "cell_type": "markdown",
   "metadata": {},
   "source": [
    "### 4) Проблема дня рождения: сколько человек требуется в одной команте, чтобы встретить хотя бы у двоих с днем рождения в один день"
   ]
  },
  {
   "cell_type": "code",
   "execution_count": 27,
   "metadata": {},
   "outputs": [],
   "source": [
    "days = np.arange(1, 366)\n",
    "people = 2\n",
    "\n",
    "def birthday_sim(people):\n",
    "    sims, unique_birthdays = 2000, 0 \n",
    "    for _ in range(sims):\n",
    "        draw = np.random.choice(days, size=people, replace=True)\n",
    "        if len(draw) == len(set(draw)): \n",
    "            unique_birthdays += 1\n",
    "    out = 1 - unique_birthdays / sims\n",
    "    return out"
   ]
  },
  {
   "cell_type": "code",
   "execution_count": 28,
   "metadata": {},
   "outputs": [
    {
     "data": {
      "text/plain": [
       "'Для достижения 50% вероятности совпадения дня рождения двух случайных людей в одной комнате, требуется 24 человека'"
      ]
     },
     "execution_count": 28,
     "metadata": {},
     "output_type": "execute_result"
    }
   ],
   "source": [
    "while (people > 0):\n",
    "    prop_bds = birthday_sim(people)\n",
    "    if prop_bds > 0.5: \n",
    "        break\n",
    "    people += 1\n",
    "\n",
    "'Для достижения 50% вероятности совпадения дня рождения двух случайных людей в одной комнате, требуется {} человека'.format(people)"
   ]
  },
  {
   "cell_type": "markdown",
   "metadata": {},
   "source": [
    "### 5) Вероятность фулл-хауса"
   ]
  },
  {
   "cell_type": "code",
   "execution_count": 29,
   "metadata": {},
   "outputs": [
    {
     "data": {
      "text/plain": [
       "'Вероятность получить на раздаче фулл-хауз = 0.0013'"
      ]
     },
     "execution_count": 29,
     "metadata": {},
     "output_type": "execute_result"
    }
   ],
   "source": [
    "n_sims, full_house, deck_of_cards = 50000, 0, deck_of_card.copy() \n",
    "for i in range(n_sims):\n",
    "    np.random.shuffle(deck_of_cards)\n",
    "    hand, cards_in_hand = deck_of_cards[0:5], {}\n",
    "    for card in hand:\n",
    "        cards_in_hand[card[1]] = cards_in_hand.get(card[1], 0) + 1\n",
    "        \n",
    "    condition = (max(cards_in_hand.values()) == 3) & (min(cards_in_hand.values()) == 2)\n",
    "    if  condition == True: \n",
    "        full_house += 1\n",
    "        \n",
    "'Вероятность получить на раздаче фулл-хауз = {}'.format(full_house/n_sims)"
   ]
  },
  {
   "cell_type": "markdown",
   "metadata": {},
   "source": [
    "# 4. Процесс создания данных (DGP)"
   ]
  },
  {
   "cell_type": "markdown",
   "metadata": {},
   "source": [
    "Процесс создания данных состоит из трех ключевых разделов:\n",
    "1. Определение факторов влияния на данные\n",
    "2. Определение источников неясности\n",
    "3. Определение взимосвязи и взаимозависимости между данными"
   ]
  },
  {
   "cell_type": "markdown",
   "metadata": {},
   "source": [
    "### 1) Моделирование погоды для определения вероятности сдать тест"
   ]
  },
  {
   "cell_type": "markdown",
   "metadata": {},
   "source": [
    "**Контекст**\n",
    "\n",
    "В зависимости от погоды игрок может сдать тест по разному и, как следствие, завалить его или пройти. В солнечную погоду, исходя из наблюдений, веротяность успешно сдать тест - 90 процентов, в дождливую - 30 процентов. Если завтра с 40 % вероятностью будет дождь - какова верояность сдать тест?"
   ]
  },
  {
   "cell_type": "markdown",
   "metadata": {},
   "source": [
    "#### - зададим константы"
   ]
  },
  {
   "cell_type": "code",
   "execution_count": 30,
   "metadata": {},
   "outputs": [],
   "source": [
    "p_rain = 0.4\n",
    "p_pass = {'sun' : 0.9, 'rain' : 0.3}\n",
    "simulations = 50000"
   ]
  },
  {
   "cell_type": "markdown",
   "metadata": {},
   "source": [
    "#### - смоделируем экзамены"
   ]
  },
  {
   "cell_type": "code",
   "execution_count": 31,
   "metadata": {},
   "outputs": [],
   "source": [
    "def exam_trial(simulations, p_rain, p_pass):\n",
    "    \n",
    "    outcomes= []\n",
    "    \n",
    "    for _ in range(simulations):\n",
    "        weather = np.random.choice(['sun', 'rain'], p=[1-p_rain, p_rain])\n",
    "        outcomes.append(np.random.choice(['pass', 'fail'], p=[p_pass[weather], 1-p_pass[weather]]))\n",
    "    \n",
    "    return round(outcomes.count('pass') / len(outcomes), 2)"
   ]
  },
  {
   "cell_type": "code",
   "execution_count": 32,
   "metadata": {},
   "outputs": [
    {
     "data": {
      "text/plain": [
       "'Вероятность сдать экзамен при заданных условиях составляет 0.66%'"
      ]
     },
     "execution_count": 32,
     "metadata": {},
     "output_type": "execute_result"
    }
   ],
   "source": [
    "'Вероятность сдать экзамен при заданных условиях составляет {}%'.format(exam_trial(simulations, p_rain, p_pass))"
   ]
  },
  {
   "cell_type": "markdown",
   "metadata": {},
   "source": [
    "### 2) Моделирование результатов выборов"
   ]
  },
  {
   "cell_type": "markdown",
   "metadata": {},
   "source": [
    "**Контекст**\n",
    "\n",
    "В стране две партии - партия \"Крас Мазов\" и партия \"Филипп Третий\" - и 81 регион, каждый регион голосует отдельно. Победит та партия, которая выиграет выборы в более, чем половине регионов. Известны вероятности одной из партии выиграть выборы в конкретном регионе. Какова вероятность, что партия проиграет выборы в стране?"
   ]
  },
  {
   "cell_type": "markdown",
   "metadata": {},
   "source": [
    "#### - зададим вероятности победить в каждом отдельном регионе для партии \"Крас Мазов\""
   ]
  },
  {
   "cell_type": "code",
   "execution_count": 33,
   "metadata": {},
   "outputs": [
    {
     "data": {
      "text/plain": [
       "array([0.45148225, 0.56267771, 0.03693303, 0.34439324, 0.60535225,\n",
       "       0.68208352, 0.50719841, 0.51028877, 0.0581918 , 0.72656116,\n",
       "       0.76400495, 0.72349126, 0.12378244, 0.58124715, 0.93607155,\n",
       "       0.99150042, 0.42683357, 0.77564154, 0.06716924, 0.40325072,\n",
       "       0.94647616, 0.60216693, 0.50484095, 0.9563692 , 0.64237653,\n",
       "       0.4113978 , 0.69244128, 0.35831459, 0.64260177, 0.85312264,\n",
       "       0.11706253, 0.75939554, 0.60506708, 0.85611043, 0.58782085,\n",
       "       0.93513816, 0.77314931, 0.38097552, 0.35912325, 0.60605   ,\n",
       "       0.97922991, 0.35416122, 0.63556106, 0.72901147, 0.18897029,\n",
       "       0.90543023, 0.07866871, 0.0933479 , 0.03050959, 0.97790956])"
      ]
     },
     "execution_count": 33,
     "metadata": {},
     "output_type": "execute_result"
    }
   ],
   "source": [
    "probabilities = np.random.random(50)\n",
    "probabilities"
   ]
  },
  {
   "cell_type": "markdown",
   "metadata": {},
   "source": [
    "#### - создадим модель для определения вероятности проиграть выборы"
   ]
  },
  {
   "cell_type": "code",
   "execution_count": 34,
   "metadata": {},
   "outputs": [],
   "source": [
    "simulations = 5000"
   ]
  },
  {
   "cell_type": "code",
   "execution_count": 35,
   "metadata": {},
   "outputs": [],
   "source": [
    "def elections(simulations, probabilities):\n",
    "    outcomes = []\n",
    "    \n",
    "    for _ in range(simulations):\n",
    "        one_elections_outcome = np.random.binomial(n=1, p=probabilities).mean()\n",
    "        outcomes.append(one_elections_outcome)\n",
    "        \n",
    "    return round((sum([1 for x in outcomes if x < 0.5]) / len(outcomes)) * 100, 2)"
   ]
  },
  {
   "cell_type": "code",
   "execution_count": 36,
   "metadata": {},
   "outputs": [
    {
     "data": {
      "text/plain": [
       "'Для партии \"Крас Мазов\" вероятность проиграть выборы, при заданных вероятностях выиграть в каждом регионе, составляет 13.12%'"
      ]
     },
     "execution_count": 36,
     "metadata": {},
     "output_type": "execute_result"
    }
   ],
   "source": [
    "'Для партии \"Крас Мазов\" вероятность проиграть выборы, при заданных вероятностях выиграть в каждом регионе, составляет {}%'.format(elections(simulations, probabilities))"
   ]
  },
  {
   "cell_type": "markdown",
   "metadata": {},
   "source": [
    "### 3) Вычисление вероятности набрать вес"
   ]
  },
  {
   "cell_type": "markdown",
   "metadata": {},
   "source": [
    "**Контекст**\n",
    "\n",
    "Необходимо расчитать вероятность набрать вес в зависимости от посещения спортивного зала при условии, что единственный наблюдаемый признак - количество шагов в день.\n",
    "\n",
    "- если шагов более 10000 в день, то вероятность набрать вес - 20%, потерять вес - 80%, \n",
    "- если меньше 5000 шагов в день, то вероятность набрать вес - 80%, потерять вес - 20%, \n",
    "- во всех остальных случаях - 50 на 50,\n",
    "- игрок посещает спортзал в 40% случаев из 100 возможных,\n",
    "- как следствие, число шагов получим из случайной величины распредления Пуассона (лямбда - среднее числом шагов на интервал, полученной с учетом вероятности посещения спортзала)"
   ]
  },
  {
   "cell_type": "markdown",
   "metadata": {},
   "source": [
    "#### - зададим константы"
   ]
  },
  {
   "cell_type": "code",
   "execution_count": 37,
   "metadata": {},
   "outputs": [],
   "source": [
    "def weigth_gain_probability(simulations, days):\n",
    "    outcomes = []\n",
    "    for _ in range(simulations):\n",
    "        \n",
    "        for _ in range(days):\n",
    "            w = []\n",
    "            lam = np.random.choice([5000, 15000], p=[0.6, 0.4], size=1)\n",
    "            steps = np.random.poisson(lam=lam)\n",
    "            if steps > 10000:\n",
    "                probability = [0.2, 0.8]\n",
    "            elif steps < 8000:\n",
    "                probability = [0.8, 0.2]\n",
    "            else:\n",
    "                probability = [0.5, 0.5]\n",
    "\n",
    "            w.append(np.random.choice([1, -1], p=probability))\n",
    "            \n",
    "        outcomes.append(sum(w))\n",
    "        \n",
    "    return round((sum([1 for x in outcomes if x < 0]) / len(outcomes)) * 100, 2)"
   ]
  },
  {
   "cell_type": "code",
   "execution_count": 38,
   "metadata": {},
   "outputs": [
    {
     "data": {
      "text/plain": [
       "'Вероятность потери веса при заданных условиях равна 45.6% '"
      ]
     },
     "execution_count": 38,
     "metadata": {},
     "output_type": "execute_result"
    }
   ],
   "source": [
    "'Вероятность потери веса при заданных условиях равна {}% '.format(weigth_gain_probability(1000, 30))"
   ]
  },
  {
   "cell_type": "markdown",
   "metadata": {},
   "source": [
    "### 4) Моделирование воронки продаж и возможности убытков"
   ]
  },
  {
   "cell_type": "markdown",
   "metadata": {},
   "source": [
    "**Контекст**\n",
    "\n",
    "Интернет-магазин рекламирует себя с помощью баннеров. Сейчас издержки на рекламу сравнительно невысокие, но магазин задумывается над увеличением издержек на рекламу. Задача: рассчитать вероятность убытков с учетом потенциального увеличения расходов на рекламу.\n",
    "\n",
    "- посещаемость сайта, на котором размещена реклама - 100000 посетителей со стандартным отклонением 2000,\n",
    "- при уровне имеющихся расходов около 10% от посмотревших рекламу переходят на сайт магазина,\n",
    "- из 10% перешедших около 20% регистрируются или авторизируются,\n",
    "- из 20% процентов авторизировавшихся 10% совершают покупку,\n",
    "- средний чек - 1000 рублей,\n",
    "- предполагается, что увеличив рекламный бюджет на 3000 рублей, сайт получит прирост на 20% как по переходам, так и по регистрации\n"
   ]
  },
  {
   "cell_type": "markdown",
   "metadata": {},
   "source": [
    "**Функции распределения на каждом этапе**:\n",
    "\n",
    "- число просмотров: случайная величина из распределения Пуассона с лямбдой равной случайной из нормального распределения,\n",
    "- переходы на сайт: случайная величина из биноминального распеделения (перейдет или нет),\n",
    "- регистрация: случайная величина из биноминального распеделения (зарегистрируется или нет),\n",
    "- покупка: случайная величина из [экспоненциального распределения](#https://baguzin.ru/wp/ravnomernoe-i-eksponentsialnoe-rasp/), поскольку нужно непрерывное распределние и экспоненциальное по своей форме позволяет получить правдоподобное значение чека, принимая во внимание, что размер чека стремиться к снижению."
   ]
  },
  {
   "cell_type": "markdown",
   "metadata": {},
   "source": [
    "#### - объявим словари, содержащие информацию о текущей конверсии и предполагаемой конверсии  случае увеличения расходов"
   ]
  },
  {
   "cell_type": "code",
   "execution_count": 39,
   "metadata": {},
   "outputs": [],
   "source": [
    "ct_rate = {'low' : 0.1, 'high' : 1.2*0.1}\n",
    "su_rate = {'low' : 0.2, 'high' : 1.2*0.2}"
   ]
  },
  {
   "cell_type": "markdown",
   "metadata": {},
   "source": [
    "#### - объявим функцию, моделирующую регистрацию на сайте в зависимости от издержек"
   ]
  },
  {
   "cell_type": "code",
   "execution_count": 40,
   "metadata": {},
   "outputs": [],
   "source": [
    "def get_sign_ups(simulations, ct_rate, su_rate, costs):\n",
    "    sign_ups = []\n",
    "    \n",
    "    for _ in range(simulations):\n",
    "        lam = np.random.normal(loc=10000, scale=2000)\n",
    "        impressions = np.random.poisson(lam=lam)\n",
    "        clicks = np.random.binomial(n=impressions, p=[ct_rate[costs]])\n",
    "        sign_ups.append(np.random.binomial(n=clicks, p=[su_rate[costs]]))\n",
    "        \n",
    "    return sign_ups"
   ]
  },
  {
   "cell_type": "markdown",
   "metadata": {},
   "source": [
    "#### - объявим функцию, моделирующую выручку от покупок в зависимости от зарегистрировавшихся при заданном уровне издержек на рекламу"
   ]
  },
  {
   "cell_type": "code",
   "execution_count": 41,
   "metadata": {},
   "outputs": [],
   "source": [
    "def get_revenue(simulations, ct_rate, su_rate, costs):\n",
    "    revenue = []\n",
    "    sign_ups = get_sign_ups(simulations, ct_rate, su_rate, costs)\n",
    "    \n",
    "    for clients in sign_ups:\n",
    "        purchases = np.random.binomial(n=clients, p=0.1)\n",
    "        revenue.append(sum(np.random.exponential(scale=1000, size=purchases)))\n",
    "    return revenue"
   ]
  },
  {
   "cell_type": "markdown",
   "metadata": {},
   "source": [
    "#### - объявим функцию, рассчитывающую вероятность убытков в случае увеличения расходов на рекламу: подсчитаем разницу межджу выручкой с высокими издержками и низкими издержками и сравним с величиной издержек на рекламу."
   ]
  },
  {
   "cell_type": "code",
   "execution_count": 42,
   "metadata": {},
   "outputs": [],
   "source": [
    "def loss_possibilities(simulations, costs_for_improvements, ct_rate, su_rate):\n",
    "    costs_for_improvements = costs_for_improvements\n",
    "    high_costs_revenue = get_revenue(simulations, ct_rate, su_rate, 'high')\n",
    "    low_costs_revenue = get_revenue(simulations, ct_rate, su_rate, 'low')\n",
    "    \n",
    "    return round((sum([1 for i in range(len(high_costs_revenue)) if (high_costs_revenue[i] - low_costs_revenue[i]) < costs_for_improvements]) / simulations) * 100, 2)"
   ]
  },
  {
   "cell_type": "code",
   "execution_count": 43,
   "metadata": {},
   "outputs": [
    {
     "data": {
      "text/plain": [
       "'Вероятность убытков в случае увеличения расходов на рекламу равна 31.49%'"
      ]
     },
     "execution_count": 43,
     "metadata": {},
     "output_type": "execute_result"
    }
   ],
   "source": [
    "'Вероятность убытков в случае увеличения расходов на рекламу равна {}%'.format(loss_possibilities(100000, 3000, ct_rate, su_rate))"
   ]
  },
  {
   "cell_type": "markdown",
   "metadata": {},
   "source": [
    "# 5. Ресемплирование данных"
   ]
  },
  {
   "cell_type": "markdown",
   "metadata": {},
   "source": [
    "## 5.1. Простой пример для демонстрации разницы в вероятностях с возвращением и без возвращения"
   ]
  },
  {
   "cell_type": "markdown",
   "metadata": {},
   "source": [
    "Игрок вытаскивает из корзины с десятью шарами ровно три шара. Какова вероятность вытащить шары в следующей последовательности: синий, зеленый, желтый."
   ]
  },
  {
   "cell_type": "code",
   "execution_count": 44,
   "metadata": {},
   "outputs": [
    {
     "data": {
      "text/plain": [
       "'Вероятность с возвращением = 0.0287, без возвращения = 0.0413'"
      ]
     },
     "execution_count": 44,
     "metadata": {},
     "output_type": "execute_result"
    }
   ],
   "source": [
    "success_rep, success_no_rep, sims = 0, 0, 10000\n",
    "bowl = ['b', 'b', 'b', 'g', 'g', 'y', 'y', 'y', 'y', 'y']\n",
    "\n",
    "for i in range(sims):\n",
    "    sample_rep = np.random.choice(bowl, size=3, replace=True)\n",
    "    sample_no_rep = np.random.choice(bowl, size=3, replace=False)\n",
    "    \n",
    "    if (sample_rep[0] == 'b') & (sample_rep[1] == 'g') & (sample_rep[2] == 'y'): \n",
    "        success_rep += 1\n",
    "    if (sample_no_rep[0] == 'b') & (sample_no_rep[1] == 'g') & (sample_no_rep[2] == 'y'): \n",
    "        success_no_rep += 1\n",
    "\n",
    "prob_with_replacement = success_rep / sims\n",
    "prob_without_replacement = success_no_rep / sims\n",
    "\n",
    "'Вероятность с возвращением = {}, без возвращения = {}'.format(prob_with_replacement, prob_without_replacement)"
   ]
  },
  {
   "cell_type": "markdown",
   "metadata": {},
   "source": [
    "## 5.2. Bootstrapping"
   ]
  },
  {
   "cell_type": "markdown",
   "metadata": {},
   "source": [
    "### 1) Простой бутстрап"
   ]
  },
  {
   "cell_type": "code",
   "execution_count": 45,
   "metadata": {},
   "outputs": [
    {
     "data": {
      "text/plain": [
       "array([10,  9,  2, 10,  2,  8,  4,  1,  2,  4,  8,  4,  7, 10,  2,  3,  2,\n",
       "        3,  7, 10,  6,  3,  9,  4,  5,  8,  2,  7,  1,  8,  1,  3, 10,  5,\n",
       "        9,  9,  8,  1,  1,  8,  4,  5,  2,  2,  5,  8,  4,  6,  5,  1,  3,\n",
       "        1,  7,  8,  2,  9,  3,  2,  3,  1, 10,  3,  8,  6,  8,  9,  2,  6,\n",
       "        8,  6,  6,  6,  8,  2,  4,  3, 10, 10,  4,  5,  8,  5,  9,  5,  1,\n",
       "        9,  2,  9,  7,  2,  9,  3,  6,  1,  9,  4,  8,  1,  6,  1])"
      ]
     },
     "execution_count": 45,
     "metadata": {},
     "output_type": "execute_result"
    }
   ],
   "source": [
    "stuff = np.random.randint(1, 11, size=100)\n",
    "stuff"
   ]
  },
  {
   "cell_type": "code",
   "execution_count": 46,
   "metadata": {},
   "outputs": [
    {
     "data": {
      "text/plain": [
       "5.26"
      ]
     },
     "execution_count": 46,
     "metadata": {},
     "output_type": "execute_result"
    }
   ],
   "source": [
    "stuff.mean()"
   ]
  },
  {
   "cell_type": "code",
   "execution_count": 47,
   "metadata": {},
   "outputs": [
    {
     "data": {
      "text/plain": [
       "array([[<matplotlib.axes._subplots.AxesSubplot object at 0x7f93d0ae0518>]],\n",
       "      dtype=object)"
      ]
     },
     "execution_count": 47,
     "metadata": {},
     "output_type": "execute_result"
    },
    {
     "data": {
      "image/png": "[encoded data removed]",
      "text/plain": [
       "<Figure size 432x288 with 1 Axes>"
      ]
     },
     "metadata": {
      "needs_background": "light"
     },
     "output_type": "display_data"
    }
   ],
   "source": [
    "pd.DataFrame(stuff).hist()"
   ]
  },
  {
   "cell_type": "code",
   "execution_count": 48,
   "metadata": {},
   "outputs": [],
   "source": [
    "bootstraped = []\n",
    "for _ in range(100000):\n",
    "    temp_sample = np.random.choice(stuff, size=len(stuff), replace=True)\n",
    "    sample_mean = temp_sample.mean()\n",
    "    bootstraped.append(sample_mean)"
   ]
  },
  {
   "cell_type": "code",
   "execution_count": 49,
   "metadata": {},
   "outputs": [
    {
     "data": {
      "text/plain": [
       "5.2600009"
      ]
     },
     "execution_count": 49,
     "metadata": {},
     "output_type": "execute_result"
    }
   ],
   "source": [
    "np.mean(bootstraped)"
   ]
  },
  {
   "cell_type": "code",
   "execution_count": 50,
   "metadata": {},
   "outputs": [
    {
     "data": {
      "text/plain": [
       "array([4.68, 5.84])"
      ]
     },
     "execution_count": 50,
     "metadata": {},
     "output_type": "execute_result"
    }
   ],
   "source": [
    "np.percentile(bootstraped, [2.5, 97.5])"
   ]
  },
  {
   "cell_type": "code",
   "execution_count": 51,
   "metadata": {},
   "outputs": [
    {
     "data": {
      "text/plain": [
       "array([[<matplotlib.axes._subplots.AxesSubplot object at 0x7f93ce9cd630>]],\n",
       "      dtype=object)"
      ]
     },
     "execution_count": 51,
     "metadata": {},
     "output_type": "execute_result"
    },
    {
     "data": {
      "image/png": "[encoded data removed]",
      "text/plain": [
       "<Figure size 432x288 with 1 Axes>"
      ]
     },
     "metadata": {
      "needs_background": "light"
     },
     "output_type": "display_data"
    }
   ],
   "source": [
    "pd.DataFrame(bootstraped).hist()"
   ]
  },
  {
   "cell_type": "markdown",
   "metadata": {},
   "source": [
    "# 6. Продвинутое моделирование"
   ]
  },
  {
   "cell_type": "markdown",
   "metadata": {},
   "source": [
    "## 1) Оптимизация издержек кукурузной фермы"
   ]
  },
  {
   "cell_type": "markdown",
   "metadata": {},
   "source": [
    "**Контекст**\n",
    "\n",
    "Небольшая ферма хочет оптимизровать издержки при выращивании кукурузы.\n",
    "\n",
    "- на производство кукурузы влияет два фактора: осадки и издержки\n",
    "- средний объем производства кукурузы определяется функцией: $100 \\times (издержки)^{0.1} \\times (осадки)^{0.2}$\n",
    "- объем произодства за определенный период определяется случайной величиной из распределения Пуассона с лямбдой равной среднему производству кукурузы\n",
    "- осадки определены как случайная величина из нормального распределения со средним равным 50 и стандартным отклонением 15\n",
    "- цена определена как случайная величина из нормального распределения со средним равным 40 и стандартным отклонением 10"
   ]
  },
  {
   "cell_type": "markdown",
   "metadata": {},
   "source": [
    "#### - определим константы: издержки и осадки"
   ]
  },
  {
   "cell_type": "code",
   "execution_count": 52,
   "metadata": {},
   "outputs": [],
   "source": [
    "cost = 5000\n",
    "rain = np.random.normal(loc=50, scale=15)\n",
    "price = np.random.normal(loc=40, scale=10)"
   ]
  },
  {
   "cell_type": "markdown",
   "metadata": {},
   "source": [
    "#### - объявим функцию, которая будет моделировать производство кукурузы и выведем результат одного цикла производства кукурузы, чтобы убедиться, что функция работает"
   ]
  },
  {
   "cell_type": "code",
   "execution_count": 53,
   "metadata": {},
   "outputs": [],
   "source": [
    "def corn_production(cost, rain):\n",
    "    mean_corn = 100 * cost**0.1 * rain**0.2\n",
    "    corn_prodution = np.random.poisson(lam=mean_corn)\n",
    "    \n",
    "    return corn_prodution"
   ]
  },
  {
   "cell_type": "code",
   "execution_count": 54,
   "metadata": {},
   "outputs": [
    {
     "data": {
      "text/plain": [
       "509"
      ]
     },
     "execution_count": 54,
     "metadata": {},
     "output_type": "execute_result"
    }
   ],
   "source": [
    "corn_production(cost, rain)"
   ]
  },
  {
   "cell_type": "markdown",
   "metadata": {},
   "source": [
    "#### - объявим функцию, которая будет моделировать спрос"
   ]
  },
  {
   "cell_type": "code",
   "execution_count": 55,
   "metadata": {},
   "outputs": [],
   "source": [
    "def corn_demanded(price):\n",
    "    mean_corn = 1000 - 8*price\n",
    "    corn = np.random.poisson(abs(mean_corn))\n",
    "    return corn"
   ]
  },
  {
   "cell_type": "code",
   "execution_count": 56,
   "metadata": {},
   "outputs": [
    {
     "data": {
      "text/plain": [
       "719"
      ]
     },
     "execution_count": 56,
     "metadata": {},
     "output_type": "execute_result"
    }
   ],
   "source": [
    "corn_demanded(40)"
   ]
  },
  {
   "cell_type": "markdown",
   "metadata": {},
   "source": [
    "#### - объявим функцию, которая будет считать прибыль"
   ]
  },
  {
   "cell_type": "code",
   "execution_count": 57,
   "metadata": {},
   "outputs": [],
   "source": [
    "def profit(cost):\n",
    "    rain = np.random.normal(loc=50, scale=15)\n",
    "    supply = corn_production(cost, rain)\n",
    "    demand = corn_demanded(price)\n",
    "    profit = 0\n",
    "    \n",
    "    equity_short = supply <= demand\n",
    "    \n",
    "    if equity_short == True:\n",
    "        profits = supply * price - cost\n",
    "    else:\n",
    "        profits = demand * price - cost\n",
    "    \n",
    "    return profits"
   ]
  },
  {
   "cell_type": "code",
   "execution_count": 58,
   "metadata": {},
   "outputs": [
    {
     "data": {
      "text/plain": [
       "11580.529924094215"
      ]
     },
     "execution_count": 58,
     "metadata": {},
     "output_type": "execute_result"
    }
   ],
   "source": [
    "profit(cost)"
   ]
  },
  {
   "cell_type": "markdown",
   "metadata": {},
   "source": [
    "#### - оптимизация издержек"
   ]
  },
  {
   "cell_type": "code",
   "execution_count": 59,
   "metadata": {},
   "outputs": [],
   "source": [
    "def cost_optimization(simulations):\n",
    "    results = {}\n",
    "    costs_levels = np.arange(100, 5100, 100)\n",
    "    \n",
    "    for cost in costs_levels:\n",
    "        profit_temp = []\n",
    "        for i in range(simulations):\n",
    "            profit_temp.append(profit(cost))\n",
    "        \n",
    "        results[cost] = np.mean(profit_temp)\n",
    "        \n",
    "    max_profit = [x for x in results.keys() if results[x] == max(results.values())][0]\n",
    "    \n",
    "    return max_profit"
   ]
  },
  {
   "cell_type": "code",
   "execution_count": 60,
   "metadata": {},
   "outputs": [
    {
     "data": {
      "text/plain": [
       "1800"
      ]
     },
     "execution_count": 60,
     "metadata": {},
     "output_type": "execute_result"
    }
   ],
   "source": [
    "cost_optimization(100000)"
   ]
  },
  {
   "cell_type": "code",
   "execution_count": 61,
   "metadata": {},
   "outputs": [
    {
     "data": {
      "text/plain": [
       "15195.987393718446"
      ]
     },
     "execution_count": 61,
     "metadata": {},
     "output_type": "execute_result"
    }
   ],
   "source": [
    "profit(1800)"
   ]
  },
  {
   "cell_type": "markdown",
   "metadata": {},
   "source": [
    "## 2) Анализ мощности статистического теста"
   ]
  },
  {
   "cell_type": "markdown",
   "metadata": {},
   "source": [
    "**Контекст:**\n",
    "\n",
    "Владельцы небольшого магазина электроники хотят узнать сколько пользователей должны посмотреть на рекламу при А/B тестировании, чтобы при проведении статистического теста отвергнуть нулевую гипотезу о том, что средний уровень переходов не изменился, получить мощность равной 80% при уровне значимости 5%.\n",
    "\n",
    "- средняя посещаемость равна 10000 человек в день,\n",
    "- стандартное отклонение равно 2256,\n",
    "- желаемый эффект от новой рекламы 5 %.\n",
    "\n",
    "\n",
    "**Основные факторы, влияющие на мощность статистического теста - способность теста определять статистическую значимость и, как следствие вероятность отвергнуть нулевую гипотезу в пользу правильной альтернативы: **\n",
    "\n",
    "- уровень значимости\n",
    "- наблюдаемый эффект в генеральной совокупности (его изменение)\n",
    "- размер выборки, использованный для определения эффекта\n",
    "\n",
    "**Из трех представленных факторов (не являющихся исчерпывающими) с помощью моделирования можно вычислить размер выборки, необходимой для получения достаточной мощности при заданном уровне значимости. Это важно, чтобы узнать, какого размера требуются выборки для проведения А/B тестирования**.\n",
    "\n",
    "Для этого:\n",
    "- многократно генерируются случайные выборки из имеющейся выборки (контрольной), а также симулируется выборка с поправкой на эффект (выборка на которую влияли), который мы предполагаем достигнуть.\n",
    "- проводится статистический тест, собирается значение p.\n",
    "- рассчитывается мощность как отношение суммы значений p при которых они были ниже уровня значимости к числу повторений.\n",
    "- при достижении искомого уровня значимости GPD останавливается.\n",
    "\n",
    "**Например, для уровня значимости 0.05 рекомендуемая мощность равна 80%**."
   ]
  },
  {
   "cell_type": "markdown",
   "metadata": {},
   "source": [
    "#### - объявим константы: среднее выборки, стандартное отклонение выборки, уровень эффекта от воздействия на выборку, изначальный размер выборки, количество симуляций"
   ]
  },
  {
   "cell_type": "code",
   "execution_count": 62,
   "metadata": {},
   "outputs": [],
   "source": [
    "control_mean = 10000\n",
    "control_std = 2256\n",
    "effect = 0.05\n",
    "sample_size = 50\n",
    "sims = 1000\n",
    "power = 0"
   ]
  },
  {
   "cell_type": "code",
   "execution_count": 63,
   "metadata": {},
   "outputs": [
    {
     "data": {
      "text/plain": [
       "'Для достижения мощности в 80% необходима выборка в размере 330'"
      ]
     },
     "execution_count": 63,
     "metadata": {},
     "output_type": "execute_result"
    }
   ],
   "source": [
    "while power < 0.8:\n",
    "    control_group = np.random.normal(loc=control_mean, scale=control_std, size=(sample_size, sims))\n",
    "    treated_group = np.random.normal(loc=control_mean * (1 + effect), scale=control_std, size=(sample_size, sims))\n",
    "\n",
    "    _, p_value = st.ttest_ind(control_group, treated_group)\n",
    "\n",
    "    power = (p_value < 0.05).sum() / sims\n",
    "\n",
    "    sample_size += 10\n",
    "\n",
    "'Для достижения мощности в 80% необходима выборка в размере {}'.format(sample_size)"
   ]
  },
  {
   "cell_type": "code",
   "execution_count": 64,
   "metadata": {},
   "outputs": [
    {
     "data": {
      "text/plain": [
       "0.802"
      ]
     },
     "execution_count": 64,
     "metadata": {},
     "output_type": "execute_result"
    }
   ],
   "source": [
    "power"
   ]
  }
 ],
 "metadata": {
  "kernelspec": {
   "display_name": "Python 3",
   "language": "python",
   "name": "python3"
  },
  "language_info": {
   "codemirror_mode": {
    "name": "ipython",
    "version": 3
   },
   "file_extension": ".py",
   "mimetype": "text/x-python",
   "name": "python",
   "nbconvert_exporter": "python",
   "pygments_lexer": "ipython3",
   "version": "3.7.9"
  },
  "toc": {
   "base_numbering": 1,
   "nav_menu": {},
   "number_sections": true,
   "sideBar": true,
   "skip_h1_title": false,
   "title_cell": "Оглавление",
   "title_sidebar": "Contents",
   "toc_cell": false,
   "toc_position": {},
   "toc_section_display": true,
   "toc_window_display": false
  },
  "varInspector": {
   "cols": {
    "lenName": 16,
    "lenType": 16,
    "lenVar": 40
   },
   "kernels_config": {
    "python": {
     "delete_cmd_postfix": "",
     "delete_cmd_prefix": "del ",
     "library": "var_list.py",
     "varRefreshCmd": "print(var_dic_list())"
    },
    "r": {
     "delete_cmd_postfix": ") ",
     "delete_cmd_prefix": "rm(",
     "library": "var_list.r",
     "varRefreshCmd": "cat(var_dic_list()) "
    }
   },
   "types_to_exclude": [
    "module",
    "function",
    "builtin_function_or_method",
    "instance",
    "_Feature"
   ],
   "window_display": false
  }
 },
 "nbformat": 4,
 "nbformat_minor": 4
}
